{
 "cells": [
  {
   "cell_type": "code",
   "execution_count": 21,
   "id": "c021a5f4",
   "metadata": {},
   "outputs": [
    {
     "name": "stdout",
     "output_type": "stream",
     "text": [
      "                                 Name    Year Duration            Genre  \\\n",
      "0                                         NaN      NaN            Drama   \n",
      "1  #Gadhvi (He thought he was Gandhi) -2019.0  109 min            Drama   \n",
      "2                         #Homecoming -2021.0   90 min   Drama, Musical   \n",
      "3                             #Yaaram -2019.0  110 min  Comedy, Romance   \n",
      "4                   ...And Once Again -2010.0  105 min            Drama   \n",
      "\n",
      "   Rating Votes            Director       Actor 1             Actor 2  \\\n",
      "0     NaN   NaN       J.S. Randhawa      Manmauji              Birbal   \n",
      "1     7.0     8       Gaurav Bakshi  Rasika Dugal      Vivek Ghamande   \n",
      "2     NaN   NaN  Soumyajit Majumdar  Sayani Gupta   Plabita Borthakur   \n",
      "3     4.4    35          Ovais Khan       Prateik          Ishita Raj   \n",
      "4     NaN   NaN        Amol Palekar  Rajat Kapoor  Rituparna Sengupta   \n",
      "\n",
      "           Actor 3  \n",
      "0  Rajendra Bhatia  \n",
      "1    Arvind Jangid  \n",
      "2       Roy Angana  \n",
      "3  Siddhant Kapoor  \n",
      "4      Antara Mali  \n",
      "Name           0\n",
      "Year         528\n",
      "Duration    8269\n",
      "Genre       1877\n",
      "Rating      7590\n",
      "Votes       7589\n",
      "Director     525\n",
      "Actor 1     1617\n",
      "Actor 2     2384\n",
      "Actor 3     3144\n",
      "dtype: int64\n",
      "Name          0\n",
      "Year        528\n",
      "Duration      0\n",
      "Genre         0\n",
      "Rating        0\n",
      "Votes         0\n",
      "Director      0\n",
      "Actor 1       0\n",
      "Actor 2       0\n",
      "Actor 3       0\n",
      "dtype: int64\n"
     ]
    }
   ],
   "source": [
    "import pandas as pd\n",
    "import numpy as np\n",
    "\n",
    "import matplotlib.pyplot as plt\n",
    "import seaborn as sns\n",
    "\n",
    "url = 'E:\\Downloads0_Bipul\\IMDb Movies India.csv'\n",
    "df = pd.read_csv(url, encoding='latin1')\n",
    "\n",
    "print(df.head())\n",
    "\n",
    "\n",
    "print(df.isnull().sum())\n",
    "\n",
    "\n",
    "df['Votes'] = pd.to_numeric(df['Votes'], errors='coerce')\n",
    "df['Votes'].fillna(df['Votes'].mean(), inplace=True)\n",
    "\n",
    "\n",
    "df['Duration'] = df['Duration'].str.extract('(\\d+)').astype(float)\n",
    "\n",
    "df['Genre'].fillna(df['Genre'].mode()[0], inplace=True)\n",
    "df['Director'].fillna(df['Director'].mode()[0], inplace=True)\n",
    "df['Actor 1'].fillna(df['Actor 1'].mode()[0], inplace=True)\n",
    "df['Actor 2'].fillna(df['Actor 2'].mode()[0], inplace=True)\n",
    "df['Actor 3'].fillna(df['Actor 3'].mode()[0], inplace=True)\n",
    "df['Rating'].fillna(df['Rating'].mean(), inplace=True)\n",
    "df['Duration'].fillna(df['Duration'].mean(), inplace=True)\n",
    "\n",
    "print(df.isnull().sum())\n",
    "\n"
   ]
  }
 ],
 "metadata": {
  "kernelspec": {
   "display_name": "Python 3 (ipykernel)",
   "language": "python",
   "name": "python3"
  },
  "language_info": {
   "codemirror_mode": {
    "name": "ipython",
    "version": 3
   },
   "file_extension": ".py",
   "mimetype": "text/x-python",
   "name": "python",
   "nbconvert_exporter": "python",
   "pygments_lexer": "ipython3",
   "version": "3.9.7"
  }
 },
 "nbformat": 4,
 "nbformat_minor": 5
}
