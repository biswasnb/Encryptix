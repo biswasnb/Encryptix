{
 "cells": [
  {
   "cell_type": "code",
   "execution_count": 3,
   "id": "4c015881",
   "metadata": {},
   "outputs": [
    {
     "name": "stdout",
     "output_type": "stream",
     "text": [
      "   sepal_length  sepal_width  petal_length  petal_width      species\n",
      "0  sepal_length  sepal_width  petal_length  petal_width      species\n",
      "1           5.1          3.5           1.4          0.2  Iris-setosa\n",
      "2           4.9            3           1.4          0.2  Iris-setosa\n",
      "3           4.7          3.2           1.3          0.2  Iris-setosa\n",
      "4           4.6          3.1           1.5          0.2  Iris-setosa\n",
      "       sepal_length sepal_width petal_length petal_width      species\n",
      "count           151         151          151         151          151\n",
      "unique           36          24           44          23            4\n",
      "top               5           3          1.5         0.2  Iris-setosa\n",
      "freq             10          26           14          28           50\n",
      "<class 'pandas.core.frame.DataFrame'>\n",
      "RangeIndex: 151 entries, 0 to 150\n",
      "Data columns (total 5 columns):\n",
      " #   Column        Non-Null Count  Dtype \n",
      "---  ------        --------------  ----- \n",
      " 0   sepal_length  151 non-null    object\n",
      " 1   sepal_width   151 non-null    object\n",
      " 2   petal_length  151 non-null    object\n",
      " 3   petal_width   151 non-null    object\n",
      " 4   species       151 non-null    object\n",
      "dtypes: object(5)\n",
      "memory usage: 6.0+ KB\n",
      "None\n"
     ]
    }
   ],
   "source": [
    "import pandas as pd\n",
    "import seaborn as sns\n",
    "import matplotlib.pyplot as plt\n",
    "\n",
    "\n",
    "\n",
    "file_path = 'E:\\\\Downloads0_Bipul\\\\IRIS.csv'\n",
    "\n",
    "\n",
    "df = pd.read_csv(file_path, names=['sepal_length', 'sepal_width', 'petal_length', 'petal_width', 'species'])\n",
    "\n",
    "\n",
    "print(df.head())\n",
    "print(df.describe())\n",
    "print(df.info())\n",
    "\n",
    "\n"
   ]
  },
  {
   "cell_type": "code",
   "execution_count": null,
   "id": "732a7d9f",
   "metadata": {},
   "outputs": [],
   "source": []
  }
 ],
 "metadata": {
  "kernelspec": {
   "display_name": "Python 3 (ipykernel)",
   "language": "python",
   "name": "python3"
  },
  "language_info": {
   "codemirror_mode": {
    "name": "ipython",
    "version": 3
   },
   "file_extension": ".py",
   "mimetype": "text/x-python",
   "name": "python",
   "nbconvert_exporter": "python",
   "pygments_lexer": "ipython3",
   "version": "3.9.7"
  }
 },
 "nbformat": 4,
 "nbformat_minor": 5
}
